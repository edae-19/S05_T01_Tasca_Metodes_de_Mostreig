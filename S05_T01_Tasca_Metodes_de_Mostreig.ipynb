{
 "cells": [
  {
   "cell_type": "markdown",
   "metadata": {},
   "source": [
    " # <span style=color:purple>**S05 T01: Tasca mètodes de mostreig**</span>\n",
    " \n",
    " _**OBJETIVOS DE LA ACTIVIDAD**_\n",
    " \n",
    " * Aprender a realizar muestreo aleatorio sobre datos en Python\n",
    " * Aprender a seleccionar metodologías de muestreo que disminuyan las posibilidades de introducis bias al estudio que puedan afectar la fiabilidad de los resultados\n",
    " \n",
    " "
   ]
  },
  {
   "cell_type": "code",
   "execution_count": 1,
   "metadata": {},
   "outputs": [],
   "source": [
    "import pandas as pd\n",
    "from random import randint\n",
    "from sklearn.model_selection import train_test_split\n",
    "from imblearn.over_sampling import SMOTE\n",
    "import matplotlib.pyplot as plt\n",
    "\n",
    "\n",
    "from sklearn.datasets import make_classification"
   ]
  },
  {
   "cell_type": "markdown",
   "metadata": {},
   "source": [
    "_**DATOS A UTILIZAR**_\n",
    "\n",
    "Los datos hacen referencia a los lanzamientos realizados por los jugadores de la NBA durante la temporada de 2014-2015. Entre los datos recolectados se contempla información como: quien tomo el lanzamiento, en que parte de la cancha se tomó el lanzamiento, que defensor estaba mas cercano y así una serie de información complementaria referente a cada lanzamiento. "
   ]
  },
  {
   "cell_type": "code",
   "execution_count": 2,
   "metadata": {},
   "outputs": [],
   "source": [
    "sport_df = pd.read_csv ('Data\\shot_logs.csv', sep = ',')"
   ]
  },
  {
   "cell_type": "code",
   "execution_count": 3,
   "metadata": {},
   "outputs": [
    {
     "data": {
      "text/html": [
       "<div>\n",
       "<style scoped>\n",
       "    .dataframe tbody tr th:only-of-type {\n",
       "        vertical-align: middle;\n",
       "    }\n",
       "\n",
       "    .dataframe tbody tr th {\n",
       "        vertical-align: top;\n",
       "    }\n",
       "\n",
       "    .dataframe thead th {\n",
       "        text-align: right;\n",
       "    }\n",
       "</style>\n",
       "<table border=\"1\" class=\"dataframe\">\n",
       "  <thead>\n",
       "    <tr style=\"text-align: right;\">\n",
       "      <th></th>\n",
       "      <th>GAME_ID1</th>\n",
       "      <th>MATCHUP</th>\n",
       "      <th>LOCATION</th>\n",
       "      <th>W</th>\n",
       "      <th>FINAL_MARGIN</th>\n",
       "      <th>SHOT_NUMBER</th>\n",
       "      <th>PERIOD</th>\n",
       "      <th>GAME_CLOCK</th>\n",
       "      <th>SHOT_CLOCK</th>\n",
       "      <th>DRIBBLES</th>\n",
       "      <th>...</th>\n",
       "      <th>SHOT_DIST</th>\n",
       "      <th>PTS_TYPE</th>\n",
       "      <th>SHOT_RESULT</th>\n",
       "      <th>CLOSEST_DEFENDER</th>\n",
       "      <th>CLOSEST_DEFENDER_PLAYER_ID</th>\n",
       "      <th>CLOSE_DEF_DIST</th>\n",
       "      <th>FGM</th>\n",
       "      <th>PTS</th>\n",
       "      <th>player_name</th>\n",
       "      <th>player_id</th>\n",
       "    </tr>\n",
       "  </thead>\n",
       "  <tbody>\n",
       "    <tr>\n",
       "      <th>0</th>\n",
       "      <td>21400899</td>\n",
       "      <td>MAR 04, 2015 - CHA @ BKN</td>\n",
       "      <td>A</td>\n",
       "      <td>W</td>\n",
       "      <td>24</td>\n",
       "      <td>1</td>\n",
       "      <td>1</td>\n",
       "      <td>01:09</td>\n",
       "      <td>10.8</td>\n",
       "      <td>2</td>\n",
       "      <td>...</td>\n",
       "      <td>7.7</td>\n",
       "      <td>2</td>\n",
       "      <td>made</td>\n",
       "      <td>Anderson, Alan</td>\n",
       "      <td>101187</td>\n",
       "      <td>1.3</td>\n",
       "      <td>1</td>\n",
       "      <td>2</td>\n",
       "      <td>brian roberts</td>\n",
       "      <td>203148</td>\n",
       "    </tr>\n",
       "    <tr>\n",
       "      <th>1</th>\n",
       "      <td>21400899</td>\n",
       "      <td>MAR 04, 2015 - CHA @ BKN</td>\n",
       "      <td>A</td>\n",
       "      <td>W</td>\n",
       "      <td>24</td>\n",
       "      <td>2</td>\n",
       "      <td>1</td>\n",
       "      <td>00:14</td>\n",
       "      <td>3.4</td>\n",
       "      <td>0</td>\n",
       "      <td>...</td>\n",
       "      <td>28.2</td>\n",
       "      <td>3</td>\n",
       "      <td>missed</td>\n",
       "      <td>Bogdanovic, Bojan</td>\n",
       "      <td>202711</td>\n",
       "      <td>6.1</td>\n",
       "      <td>0</td>\n",
       "      <td>0</td>\n",
       "      <td>brian roberts</td>\n",
       "      <td>203148</td>\n",
       "    </tr>\n",
       "    <tr>\n",
       "      <th>2</th>\n",
       "      <td>21400899</td>\n",
       "      <td>MAR 04, 2015 - CHA @ BKN</td>\n",
       "      <td>A</td>\n",
       "      <td>W</td>\n",
       "      <td>24</td>\n",
       "      <td>3</td>\n",
       "      <td>1</td>\n",
       "      <td>00:00</td>\n",
       "      <td>NaN</td>\n",
       "      <td>3</td>\n",
       "      <td>...</td>\n",
       "      <td>10.1</td>\n",
       "      <td>2</td>\n",
       "      <td>missed</td>\n",
       "      <td>Bogdanovic, Bojan</td>\n",
       "      <td>202711</td>\n",
       "      <td>0.9</td>\n",
       "      <td>0</td>\n",
       "      <td>0</td>\n",
       "      <td>brian roberts</td>\n",
       "      <td>203148</td>\n",
       "    </tr>\n",
       "    <tr>\n",
       "      <th>3</th>\n",
       "      <td>21400899</td>\n",
       "      <td>MAR 04, 2015 - CHA @ BKN</td>\n",
       "      <td>A</td>\n",
       "      <td>W</td>\n",
       "      <td>24</td>\n",
       "      <td>4</td>\n",
       "      <td>2</td>\n",
       "      <td>11:47</td>\n",
       "      <td>10.3</td>\n",
       "      <td>2</td>\n",
       "      <td>...</td>\n",
       "      <td>17.2</td>\n",
       "      <td>2</td>\n",
       "      <td>missed</td>\n",
       "      <td>Brown, Markel</td>\n",
       "      <td>203900</td>\n",
       "      <td>3.4</td>\n",
       "      <td>0</td>\n",
       "      <td>0</td>\n",
       "      <td>brian roberts</td>\n",
       "      <td>203148</td>\n",
       "    </tr>\n",
       "    <tr>\n",
       "      <th>4</th>\n",
       "      <td>21400899</td>\n",
       "      <td>MAR 04, 2015 - CHA @ BKN</td>\n",
       "      <td>A</td>\n",
       "      <td>W</td>\n",
       "      <td>24</td>\n",
       "      <td>5</td>\n",
       "      <td>2</td>\n",
       "      <td>10:34</td>\n",
       "      <td>10.9</td>\n",
       "      <td>2</td>\n",
       "      <td>...</td>\n",
       "      <td>3.7</td>\n",
       "      <td>2</td>\n",
       "      <td>missed</td>\n",
       "      <td>Young, Thaddeus</td>\n",
       "      <td>201152</td>\n",
       "      <td>1.1</td>\n",
       "      <td>0</td>\n",
       "      <td>0</td>\n",
       "      <td>brian roberts</td>\n",
       "      <td>203148</td>\n",
       "    </tr>\n",
       "  </tbody>\n",
       "</table>\n",
       "<p>5 rows × 21 columns</p>\n",
       "</div>"
      ],
      "text/plain": [
       "   GAME_ID1                   MATCHUP LOCATION  W  FINAL_MARGIN  SHOT_NUMBER  \\\n",
       "0  21400899  MAR 04, 2015 - CHA @ BKN        A  W            24            1   \n",
       "1  21400899  MAR 04, 2015 - CHA @ BKN        A  W            24            2   \n",
       "2  21400899  MAR 04, 2015 - CHA @ BKN        A  W            24            3   \n",
       "3  21400899  MAR 04, 2015 - CHA @ BKN        A  W            24            4   \n",
       "4  21400899  MAR 04, 2015 - CHA @ BKN        A  W            24            5   \n",
       "\n",
       "   PERIOD GAME_CLOCK  SHOT_CLOCK  DRIBBLES  ...  SHOT_DIST  PTS_TYPE  \\\n",
       "0       1      01:09        10.8         2  ...        7.7         2   \n",
       "1       1      00:14         3.4         0  ...       28.2         3   \n",
       "2       1      00:00         NaN         3  ...       10.1         2   \n",
       "3       2      11:47        10.3         2  ...       17.2         2   \n",
       "4       2      10:34        10.9         2  ...        3.7         2   \n",
       "\n",
       "   SHOT_RESULT   CLOSEST_DEFENDER CLOSEST_DEFENDER_PLAYER_ID  CLOSE_DEF_DIST  \\\n",
       "0         made     Anderson, Alan                     101187             1.3   \n",
       "1       missed  Bogdanovic, Bojan                     202711             6.1   \n",
       "2       missed  Bogdanovic, Bojan                     202711             0.9   \n",
       "3       missed      Brown, Markel                     203900             3.4   \n",
       "4       missed    Young, Thaddeus                     201152             1.1   \n",
       "\n",
       "   FGM  PTS    player_name player_id  \n",
       "0    1    2  brian roberts    203148  \n",
       "1    0    0  brian roberts    203148  \n",
       "2    0    0  brian roberts    203148  \n",
       "3    0    0  brian roberts    203148  \n",
       "4    0    0  brian roberts    203148  \n",
       "\n",
       "[5 rows x 21 columns]"
      ]
     },
     "execution_count": 3,
     "metadata": {},
     "output_type": "execute_result"
    }
   ],
   "source": [
    "sport_df.head()"
   ]
  },
  {
   "cell_type": "code",
   "execution_count": 4,
   "metadata": {},
   "outputs": [
    {
     "name": "stdout",
     "output_type": "stream",
     "text": [
      "<class 'pandas.core.frame.DataFrame'>\n",
      "RangeIndex: 128069 entries, 0 to 128068\n",
      "Data columns (total 21 columns):\n",
      " #   Column                      Non-Null Count   Dtype  \n",
      "---  ------                      --------------   -----  \n",
      " 0   GAME_ID1                    128069 non-null  int64  \n",
      " 1   MATCHUP                     128069 non-null  object \n",
      " 2   LOCATION                    128069 non-null  object \n",
      " 3   W                           128069 non-null  object \n",
      " 4   FINAL_MARGIN                128069 non-null  int64  \n",
      " 5   SHOT_NUMBER                 128069 non-null  int64  \n",
      " 6   PERIOD                      128069 non-null  int64  \n",
      " 7   GAME_CLOCK                  128069 non-null  object \n",
      " 8   SHOT_CLOCK                  122502 non-null  float64\n",
      " 9   DRIBBLES                    128069 non-null  int64  \n",
      " 10  TOUCH_TIME                  128069 non-null  float64\n",
      " 11  SHOT_DIST                   128069 non-null  float64\n",
      " 12  PTS_TYPE                    128069 non-null  int64  \n",
      " 13  SHOT_RESULT                 128069 non-null  object \n",
      " 14  CLOSEST_DEFENDER            128069 non-null  object \n",
      " 15  CLOSEST_DEFENDER_PLAYER_ID  128069 non-null  int64  \n",
      " 16  CLOSE_DEF_DIST              128069 non-null  float64\n",
      " 17  FGM                         128069 non-null  int64  \n",
      " 18  PTS                         128069 non-null  int64  \n",
      " 19  player_name                 128069 non-null  object \n",
      " 20  player_id                   128069 non-null  int64  \n",
      "dtypes: float64(4), int64(10), object(7)\n",
      "memory usage: 20.5+ MB\n"
     ]
    }
   ],
   "source": [
    "sport_df.info()"
   ]
  },
  {
   "cell_type": "markdown",
   "metadata": {},
   "source": [
    " #### <span style=color:purple>**EJERCICIO 1**</span>\n",
    " \n",
    " Realización de muestreo aleatorio simple y muestreo aleatorio sistemático sobre los datos\n",
    " \n",
    " **1.1 Muestreo Aleatorio Simple (mas)**\n",
    "\n",
    "Sobre una población total de 128.069 muestras aplicaremos un algoritmo de selección aleatoria en el cual todos las muestras de la población tienen la misma probabilidad de ser seleccionada. \n",
    "\n",
    "Seleccionaremos un total de 12.800 muestras para formar nuestro subset de muestreo, correcpondiente aproximadamente al 10% de la población total"
   ]
  },
  {
   "cell_type": "code",
   "execution_count": 5,
   "metadata": {},
   "outputs": [],
   "source": [
    "sample_mas_df = sport_df.sample (12800)"
   ]
  },
  {
   "cell_type": "code",
   "execution_count": 6,
   "metadata": {},
   "outputs": [
    {
     "name": "stdout",
     "output_type": "stream",
     "text": [
      "<class 'pandas.core.frame.DataFrame'>\n",
      "Int64Index: 12800 entries, 24197 to 65453\n",
      "Data columns (total 21 columns):\n",
      " #   Column                      Non-Null Count  Dtype  \n",
      "---  ------                      --------------  -----  \n",
      " 0   GAME_ID1                    12800 non-null  int64  \n",
      " 1   MATCHUP                     12800 non-null  object \n",
      " 2   LOCATION                    12800 non-null  object \n",
      " 3   W                           12800 non-null  object \n",
      " 4   FINAL_MARGIN                12800 non-null  int64  \n",
      " 5   SHOT_NUMBER                 12800 non-null  int64  \n",
      " 6   PERIOD                      12800 non-null  int64  \n",
      " 7   GAME_CLOCK                  12800 non-null  object \n",
      " 8   SHOT_CLOCK                  12225 non-null  float64\n",
      " 9   DRIBBLES                    12800 non-null  int64  \n",
      " 10  TOUCH_TIME                  12800 non-null  float64\n",
      " 11  SHOT_DIST                   12800 non-null  float64\n",
      " 12  PTS_TYPE                    12800 non-null  int64  \n",
      " 13  SHOT_RESULT                 12800 non-null  object \n",
      " 14  CLOSEST_DEFENDER            12800 non-null  object \n",
      " 15  CLOSEST_DEFENDER_PLAYER_ID  12800 non-null  int64  \n",
      " 16  CLOSE_DEF_DIST              12800 non-null  float64\n",
      " 17  FGM                         12800 non-null  int64  \n",
      " 18  PTS                         12800 non-null  int64  \n",
      " 19  player_name                 12800 non-null  object \n",
      " 20  player_id                   12800 non-null  int64  \n",
      "dtypes: float64(4), int64(10), object(7)\n",
      "memory usage: 2.1+ MB\n"
     ]
    }
   ],
   "source": [
    "sample_mas_df.info()"
   ]
  },
  {
   "cell_type": "markdown",
   "metadata": {},
   "source": [
    " **1.2 Muestreo Sistemático (ms)**\n",
    "\n",
    "Hay muchas maneras de hacer un muestreo sistematico, en este caso utilizaremos la metodologia mas común. Para tal fin se siguen los siguientes pasos:\n",
    "\n",
    "* Paso 1: Organizar las muestras. En nuestro caso utilizaremos el indice como organizador\n",
    "* Paso 2: Seleccionar de forma aleatoria el indice de inicio del muestreo. Para este paso nos apoyaremos en la funcion de Python random. Marcaremos un intervalo de trabajo y de forma automática se seleccionará el indice\n",
    "* Paso 3:  Generar el nuevo df con valor original seleccionado de forma aleatoria y muestras siguientes seleccionadas con un intervalo aleatorio \n"
   ]
  },
  {
   "cell_type": "code",
   "execution_count": 7,
   "metadata": {},
   "outputs": [],
   "source": [
    "start_sample = randint(0,100)"
   ]
  },
  {
   "cell_type": "code",
   "execution_count": 8,
   "metadata": {},
   "outputs": [],
   "source": [
    "interval = randint(5,10)"
   ]
  },
  {
   "cell_type": "code",
   "execution_count": 9,
   "metadata": {},
   "outputs": [],
   "source": [
    "sample_ms_df = sport_df.iloc[start_sample::interval]"
   ]
  },
  {
   "cell_type": "code",
   "execution_count": 10,
   "metadata": {},
   "outputs": [
    {
     "name": "stdout",
     "output_type": "stream",
     "text": [
      "<class 'pandas.core.frame.DataFrame'>\n",
      "RangeIndex: 21329 entries, 98 to 128066\n",
      "Data columns (total 21 columns):\n",
      " #   Column                      Non-Null Count  Dtype  \n",
      "---  ------                      --------------  -----  \n",
      " 0   GAME_ID1                    21329 non-null  int64  \n",
      " 1   MATCHUP                     21329 non-null  object \n",
      " 2   LOCATION                    21329 non-null  object \n",
      " 3   W                           21329 non-null  object \n",
      " 4   FINAL_MARGIN                21329 non-null  int64  \n",
      " 5   SHOT_NUMBER                 21329 non-null  int64  \n",
      " 6   PERIOD                      21329 non-null  int64  \n",
      " 7   GAME_CLOCK                  21329 non-null  object \n",
      " 8   SHOT_CLOCK                  20398 non-null  float64\n",
      " 9   DRIBBLES                    21329 non-null  int64  \n",
      " 10  TOUCH_TIME                  21329 non-null  float64\n",
      " 11  SHOT_DIST                   21329 non-null  float64\n",
      " 12  PTS_TYPE                    21329 non-null  int64  \n",
      " 13  SHOT_RESULT                 21329 non-null  object \n",
      " 14  CLOSEST_DEFENDER            21329 non-null  object \n",
      " 15  CLOSEST_DEFENDER_PLAYER_ID  21329 non-null  int64  \n",
      " 16  CLOSE_DEF_DIST              21329 non-null  float64\n",
      " 17  FGM                         21329 non-null  int64  \n",
      " 18  PTS                         21329 non-null  int64  \n",
      " 19  player_name                 21329 non-null  object \n",
      " 20  player_id                   21329 non-null  int64  \n",
      "dtypes: float64(4), int64(10), object(7)\n",
      "memory usage: 3.4+ MB\n"
     ]
    }
   ],
   "source": [
    "sample_ms_df.info()"
   ]
  },
  {
   "cell_type": "markdown",
   "metadata": {},
   "source": [
    " #### <span style=color:purple>**EJERCICIO 2**</span>\n",
    " \n",
    " Realización de Muestra Estratificada y SMOTE (Synthetic Minority Oversampling Technique)\n",
    " \n",
    " **2.1 Muestra Estratificada (me)**\n",
    " \n",
    " Para este tipo de muestreo nos apoyaremos en la herramienta de sklearn 'train_test_split'. Con esta función podemos generar un df de muestra (test) haciendo una estratificación, en este caso por los puntos del lanzamiento que se tomó. De esta manera los porcentajes de lanzamientos de 2 y 3 puntos del dataFrame de test serán muy similares a los del dataFrame original.\n",
    " \n",
    " Para mantener correlación con los ejercicios anteriores, generamos un set de prueba del 10% del DataFrame original\n",
    "\n"
   ]
  },
  {
   "cell_type": "code",
   "execution_count": 11,
   "metadata": {},
   "outputs": [],
   "source": [
    "df_train, sample_me_df = train_test_split(sport_df, test_size = 0.1, stratify = sport_df['PTS_TYPE'])"
   ]
  },
  {
   "cell_type": "code",
   "execution_count": 12,
   "metadata": {},
   "outputs": [
    {
     "name": "stdout",
     "output_type": "stream",
     "text": [
      "<class 'pandas.core.frame.DataFrame'>\n",
      "Int64Index: 12807 entries, 28644 to 71871\n",
      "Data columns (total 21 columns):\n",
      " #   Column                      Non-Null Count  Dtype  \n",
      "---  ------                      --------------  -----  \n",
      " 0   GAME_ID1                    12807 non-null  int64  \n",
      " 1   MATCHUP                     12807 non-null  object \n",
      " 2   LOCATION                    12807 non-null  object \n",
      " 3   W                           12807 non-null  object \n",
      " 4   FINAL_MARGIN                12807 non-null  int64  \n",
      " 5   SHOT_NUMBER                 12807 non-null  int64  \n",
      " 6   PERIOD                      12807 non-null  int64  \n",
      " 7   GAME_CLOCK                  12807 non-null  object \n",
      " 8   SHOT_CLOCK                  12216 non-null  float64\n",
      " 9   DRIBBLES                    12807 non-null  int64  \n",
      " 10  TOUCH_TIME                  12807 non-null  float64\n",
      " 11  SHOT_DIST                   12807 non-null  float64\n",
      " 12  PTS_TYPE                    12807 non-null  int64  \n",
      " 13  SHOT_RESULT                 12807 non-null  object \n",
      " 14  CLOSEST_DEFENDER            12807 non-null  object \n",
      " 15  CLOSEST_DEFENDER_PLAYER_ID  12807 non-null  int64  \n",
      " 16  CLOSE_DEF_DIST              12807 non-null  float64\n",
      " 17  FGM                         12807 non-null  int64  \n",
      " 18  PTS                         12807 non-null  int64  \n",
      " 19  player_name                 12807 non-null  object \n",
      " 20  player_id                   12807 non-null  int64  \n",
      "dtypes: float64(4), int64(10), object(7)\n",
      "memory usage: 2.1+ MB\n"
     ]
    }
   ],
   "source": [
    "sample_me_df.info()"
   ]
  },
  {
   "cell_type": "markdown",
   "metadata": {},
   "source": [
    " **2.2 SMOTE - Synthetic Minority Oversampling Technique (smot)**\n",
    " \n",
    " El proposito de este tipo de metodos es crear de forma sitetica muestras que permitan balancear un DataSet. Para que la aplicación tenga sentido se debería fijar un target dentro del DataSet y verificar que en efecto hay un desbalance considerable entre los posibles resultados. Esto quiere decir, tener unos valores target que representen mas del 95%, por ejemplo, y otro que represente menos del 5%. Al aplicar la técnica de SMOTE se consigue crear de forma artificial mas valores del target menos presente y conseguir un algoritmo predictivo mas preciso.\n",
    " \n",
    " En este caso graficaremos algunas columnas para verificar si hay algúna con un desbalance significativo y poder aplicar el SMOTE a esa columna. SIn embargo, el target mas significativo sería poder predecir si el tiro es encestado o no en función al resto de parámetros, por lo que el primer gráfico sería el de Shot Results.\n",
    " \n",
    " <span style=color:blue>GRAFICO 1 - SHOT RESULT</span>\n",
    " \n"
   ]
  },
  {
   "cell_type": "code",
   "execution_count": 13,
   "metadata": {},
   "outputs": [
    {
     "data": {
      "image/png": "[encoded data removed]",
      "text/plain": [
       "<Figure size 576x288 with 1 Axes>"
      ]
     },
     "metadata": {
      "needs_background": "light"
     },
     "output_type": "display_data"
    }
   ],
   "source": [
    "graph = sport_df['SHOT_RESULT'].value_counts().plot(kind='bar', figsize=(8, 4), fontsize=13, color='teal')\n",
    "\n",
    "fuente_titulo = {'family' : 'DejaVu Sans', 'color' : 'slategrey', 'size' : 20}\n",
    "fuente_ejes = {'family' : 'DejaVu Sans', 'color' : 'slategrey', 'size' : 12}\n",
    "\n",
    "graph.set_title('SHOT RESULT', size=20, pad=30, fontdict = fuente_titulo)\n",
    "graph.set_ylabel('Number Shots', fontsize=14, fontdict = fuente_ejes)\n",
    "\n",
    "plt.show()"
   ]
  },
  {
   "cell_type": "markdown",
   "metadata": {},
   "source": [
    "Vemos que el gráfico esta bastante bien balanceado. Graficaremos otra columna de variables categóricas para ver si conseguimos un targuet desbalanceado. Si no lo conseguimos, aplicaremos el SMOTE a la columna de Shot Result que es un targuet interesante de predecir.\n",
    "\n",
    "\n",
    "<span style=color:blue>GRAFICO 2 - WIN / LOSS </span>"
   ]
  },
  {
   "cell_type": "code",
   "execution_count": 14,
   "metadata": {},
   "outputs": [
    {
     "data": {
      "image/png": "[encoded data removed]",
      "text/plain": [
       "<Figure size 576x288 with 1 Axes>"
      ]
     },
     "metadata": {
      "needs_background": "light"
     },
     "output_type": "display_data"
    }
   ],
   "source": [
    "graph = sport_df['W'].value_counts().plot(kind='bar', figsize=(8, 4), fontsize=13, color='teal')\n",
    "\n",
    "fuente_titulo = {'family' : 'DejaVu Sans', 'color' : 'slategrey', 'size' : 20}\n",
    "fuente_ejes = {'family' : 'DejaVu Sans', 'color' : 'slategrey', 'size' : 12}\n",
    "\n",
    "graph.set_title('WIN / LOSS', size=20, pad=30, fontdict = fuente_titulo)\n",
    "graph.set_ylabel('Number of Shots', fontsize=14, fontdict = fuente_ejes)\n",
    "\n",
    "plt.show()"
   ]
  },
  {
   "cell_type": "markdown",
   "metadata": {},
   "source": [
    "Igualmente vemos que las variables están bastante equilibradas. Para efectos de mostrar los resultados del SMOTE aplicaremos el algoritmo considerando como target la columna de Shot_Result.\n",
    "\n",
    "\n",
    "**_Consideración_**\n",
    "\n",
    "Antes de aplicar el SMOTE tenemos que asegurarnos que las columnas que seleccionemos del DF sean valores numéricos, y pasar el las variables target a 0 y 1.\n",
    "\n",
    "* Seleccionamos algunas columnas numéricas del df y aseguramos que los valores NaN sean reemplazados por 0\n",
    "* Reemplazamos la categoría 'made' por 1 y 'missed' por 0 en la columna del df 'SHOT_RESULT'\n",
    "* Aaplicamos el algoritmo de SMOTE para equilibrar las categorías de la columna de SHOT_RESULT\n",
    "* Graficamos para verificar que las variables categóricas tienen tamaños similares"
   ]
  },
  {
   "cell_type": "code",
   "execution_count": 61,
   "metadata": {},
   "outputs": [],
   "source": [
    "X = sport_df [['FINAL_MARGIN','SHOT_NUMBER','PERIOD','SHOT_CLOCK','SHOT_DIST','SHOT_RESULT']].fillna(0)\n",
    "X['SHOT_RESULT'].replace('made', 1, inplace = True)\n",
    "X['SHOT_RESULT'].replace('missed', 0, inplace = True)\n",
    "\n",
    "y = X['SHOT_RESULT']\n"
   ]
  },
  {
   "cell_type": "code",
   "execution_count": 64,
   "metadata": {},
   "outputs": [],
   "source": [
    "smote = SMOTE(sampling_strategy='minority')\n",
    "X_sm, y_sm = smote.fit_resample(X, y)"
   ]
  },
  {
   "cell_type": "code",
   "execution_count": 65,
   "metadata": {},
   "outputs": [
    {
     "data": {
      "image/png": "[encoded data removed]",
      "text/plain": [
       "<Figure size 576x288 with 1 Axes>"
      ]
     },
     "metadata": {
      "needs_background": "light"
     },
     "output_type": "display_data"
    }
   ],
   "source": [
    "graph = X_sm['SHOT_RESULT'].value_counts().plot(kind='bar', figsize=(8, 4), fontsize=13, color='teal')\n",
    "\n",
    "fuente_titulo = {'family' : 'DejaVu Sans', 'color' : 'slategrey', 'size' : 20}\n",
    "fuente_ejes = {'family' : 'DejaVu Sans', 'color' : 'slategrey', 'size' : 12}\n",
    "\n",
    "graph.set_title('SHOT RESULT', size=20, pad=30, fontdict = fuente_titulo)\n",
    "graph.set_ylabel('Number Shots', fontsize=14, fontdict = fuente_ejes)\n",
    "\n",
    "plt.show()"
   ]
  },
  {
   "cell_type": "markdown",
   "metadata": {},
   "source": [
    "**Las categorías de la columna target se han equilibrado mediante la generación de valores sintéticos con el algoritmo de SMOTE**\n",
    "\n",
    "**1 : 'made'**\n",
    "\n",
    "**0 : 'missed'**\n",
    "\n"
   ]
  },
  {
   "cell_type": "code",
   "execution_count": null,
   "metadata": {},
   "outputs": [],
   "source": []
  },
  {
   "cell_type": "code",
   "execution_count": null,
   "metadata": {},
   "outputs": [],
   "source": []
  },
  {
   "cell_type": "code",
   "execution_count": null,
   "metadata": {},
   "outputs": [],
   "source": []
  },
  {
   "cell_type": "code",
   "execution_count": null,
   "metadata": {},
   "outputs": [],
   "source": []
  },
  {
   "cell_type": "code",
   "execution_count": null,
   "metadata": {},
   "outputs": [],
   "source": []
  },
  {
   "cell_type": "code",
   "execution_count": null,
   "metadata": {},
   "outputs": [],
   "source": []
  },
  {
   "cell_type": "code",
   "execution_count": null,
   "metadata": {},
   "outputs": [],
   "source": []
  },
  {
   "cell_type": "code",
   "execution_count": null,
   "metadata": {},
   "outputs": [],
   "source": []
  },
  {
   "cell_type": "code",
   "execution_count": null,
   "metadata": {},
   "outputs": [],
   "source": []
  },
  {
   "cell_type": "code",
   "execution_count": null,
   "metadata": {},
   "outputs": [],
   "source": []
  },
  {
   "cell_type": "code",
   "execution_count": null,
   "metadata": {},
   "outputs": [],
   "source": []
  },
  {
   "cell_type": "code",
   "execution_count": null,
   "metadata": {},
   "outputs": [],
   "source": []
  },
  {
   "cell_type": "code",
   "execution_count": null,
   "metadata": {},
   "outputs": [],
   "source": []
  },
  {
   "cell_type": "code",
   "execution_count": null,
   "metadata": {},
   "outputs": [],
   "source": []
  },
  {
   "cell_type": "code",
   "execution_count": null,
   "metadata": {},
   "outputs": [],
   "source": []
  },
  {
   "cell_type": "code",
   "execution_count": null,
   "metadata": {},
   "outputs": [],
   "source": []
  }
 ],
 "metadata": {
  "kernelspec": {
   "display_name": "Python 3",
   "language": "python",
   "name": "python3"
  },
  "language_info": {
   "codemirror_mode": {
    "name": "ipython",
    "version": 3
   },
   "file_extension": ".py",
   "mimetype": "text/x-python",
   "name": "python",
   "nbconvert_exporter": "python",
   "pygments_lexer": "ipython3",
   "version": "3.8.3"
  }
 },
 "nbformat": 4,
 "nbformat_minor": 4
}
